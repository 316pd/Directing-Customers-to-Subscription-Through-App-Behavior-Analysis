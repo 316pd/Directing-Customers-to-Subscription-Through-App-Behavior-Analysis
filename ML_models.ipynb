{
 "cells": [
  {
   "cell_type": "markdown",
   "metadata": {},
   "source": [
    "### Machine learning Models\n",
    "The target variable is categorical type 0 and 1, so we have to use supervised classification algorithms.\n",
    "To build the best model, we have to train and test the dataset with multiple Machine Learning algorithms then we can find the best ML model. So let’s try."
   ]
  },
  {
   "cell_type": "code",
   "execution_count": 1,
   "metadata": {},
   "outputs": [],
   "source": [
    "import numpy as np\n",
    "import pandas as pd\n",
    "import matplotlib.pyplot as plt\n",
    "import seaborn as sns\n",
    "from dateutil import parser"
   ]
  },
  {
   "cell_type": "code",
   "execution_count": 2,
   "metadata": {},
   "outputs": [],
   "source": [
    "dataset = pd.read_csv('new_app.csv')"
   ]
  },
  {
   "cell_type": "code",
   "execution_count": 3,
   "metadata": {},
   "outputs": [],
   "source": [
    "#model_training\n",
    "response = dataset[\"enrolled\"]\n",
    "dataset = dataset.drop(columns = 'enrolled')"
   ]
  },
  {
   "cell_type": "code",
   "execution_count": 4,
   "metadata": {},
   "outputs": [],
   "source": [
    "from sklearn.model_selection import train_test_split\n",
    "X_train, X_test, y_train, y_test = train_test_split(dataset, response, test_size = 0.25, random_state = 0)\n",
    "\n",
    "train_identifier = X_train['user']\n",
    "test_identifier = X_test['user']\n",
    "\n",
    "X_train = X_train.drop(columns = 'user')\n",
    "X_test = X_test.drop(columns = 'user')"
   ]
  },
  {
   "cell_type": "code",
   "execution_count": 5,
   "metadata": {},
   "outputs": [],
   "source": [
    "from sklearn.preprocessing import StandardScaler\n",
    "sc_X = StandardScaler()\n",
    "X_train2 = pd.DataFrame(sc_X.fit_transform(X_train))\n",
    "X_test2 = pd.DataFrame(sc_X.transform(X_test))\n",
    "X_train2.columns = X_train.columns.values\n",
    "X_test2.columns = X_test.columns.values\n",
    "X_train2.index = X_train.index.values\n",
    "X_test2.index = X_test.index.values\n",
    "X_train = X_train2\n",
    "X_test = X_test2"
   ]
  },
  {
   "cell_type": "code",
   "execution_count": 6,
   "metadata": {},
   "outputs": [],
   "source": [
    "from sklearn.linear_model import LogisticRegression\n",
    "clf1 = LogisticRegression(random_state = 0)\n",
    "clf1.fit(X_train,y_train)\n",
    "y_pred = clf1.predict(X_test)"
   ]
  },
  {
   "cell_type": "code",
   "execution_count": 7,
   "metadata": {},
   "outputs": [
    {
     "name": "stdout",
     "output_type": "stream",
     "text": [
      "Confusion matrix : \n",
      " [[4842 1447]\n",
      " [1430 4781]]\n",
      "Accuracy :  0.76984\n"
     ]
    }
   ],
   "source": [
    "from sklearn.metrics import confusion_matrix, accuracy_score, f1_score, precision_score, recall_score\n",
    "cm1 = confusion_matrix(y_test,y_pred)\n",
    "print(\"Confusion matrix : \\n\",cm1)\n",
    "ac1 = accuracy_score(y_test,y_pred)\n",
    "print(\"Accuracy : \",ac1)"
   ]
  },
  {
   "cell_type": "code",
   "execution_count": 8,
   "metadata": {},
   "outputs": [
    {
     "name": "stdout",
     "output_type": "stream",
     "text": [
      "Confusion matrix : \n",
      " [[5062 1227]\n",
      " [1546 4665]]\n",
      "Accuracy :  0.77816\n"
     ]
    }
   ],
   "source": [
    "# Support Vector Machine\n",
    "from sklearn.svm import SVC\n",
    "clf2 = SVC()\n",
    "clf2.fit(X_train, y_train)\n",
    "y_pred = clf2.predict(X_test)\n",
    "cm2 = confusion_matrix(y_test,y_pred)\n",
    "print(\"Confusion matrix : \\n\",cm2)\n",
    "ac2 = accuracy_score(y_test, y_pred)\n",
    "print(\"Accuracy : \",ac2)"
   ]
  },
  {
   "cell_type": "code",
   "execution_count": 9,
   "metadata": {},
   "outputs": [
    {
     "name": "stderr",
     "output_type": "stream",
     "text": [
      "C:\\Users\\piyush\\Anaconda3\\lib\\site-packages\\dask\\dataframe\\utils.py:14: FutureWarning: pandas.util.testing is deprecated. Use the functions in the public API at pandas.testing instead.\n",
      "  import pandas.util.testing as tm\n"
     ]
    },
    {
     "name": "stdout",
     "output_type": "stream",
     "text": [
      "Confusion matrix : \n",
      " [[5129 1160]\n",
      " [1542 4669]]\n",
      "Accuracy :  0.78384\n"
     ]
    }
   ],
   "source": [
    "# XGBoost Classifier\n",
    "from xgboost import XGBClassifier\n",
    "clf3 = XGBClassifier()\n",
    "clf3.fit(X_train, y_train)\n",
    "y_pred = clf3.predict(X_test)\n",
    "cm3 = confusion_matrix(y_test,y_pred)\n",
    "print(\"Confusion matrix : \\n\",cm3)\n",
    "ac3 = accuracy_score(y_test, y_pred)\n",
    "print(\"Accuracy : \",ac3)"
   ]
  },
  {
   "cell_type": "code",
   "execution_count": 10,
   "metadata": {},
   "outputs": [
    {
     "name": "stdout",
     "output_type": "stream",
     "text": [
      "Confusion matrix : \n",
      " [[5167 1122]\n",
      " [1509 4702]]\n",
      "Accuracy :  0.78952\n"
     ]
    }
   ],
   "source": [
    "# XGB classifier with parameter tuning\n",
    "xgb_model = XGBClassifier(\n",
    " learning_rate =0.01,\n",
    " n_estimators=5000,\n",
    " max_depth=4,\n",
    " min_child_weight=6,\n",
    " gamma=0,\n",
    " subsample=0.8,\n",
    " colsample_bytree=0.8,\n",
    " reg_alpha=0.005,\n",
    " objective= 'binary:logistic',\n",
    " nthread=4,\n",
    " scale_pos_weight=1,\n",
    " seed=27)\n",
    " \n",
    "xgb_model.fit(X_train2, y_train)\n",
    "y_pred_xgb = xgb_model.predict(X_test2)\n",
    "cm_final = confusion_matrix(y_test,y_pred_xgb)\n",
    "print(\"Confusion matrix : \\n\",cm_final)\n",
    "ac_final = accuracy_score(y_test, y_pred_xgb)\n",
    "print(\"Accuracy : \",ac_final) "
   ]
  },
  {
   "cell_type": "markdown",
   "metadata": {},
   "source": [
    "<table>\n",
    "  <caption>Models :</caption>\n",
    "  <tr>\n",
    "    <td></td>\n",
    "    <th scope=\"col\">Acurracy Score</th>\n",
    "  </tr>\n",
    "  <tr>\n",
    "    <th scope=\"row\">Logistic Regression</th>\n",
    "    <td>0.76984</td>\n",
    "  </tr>\n",
    "  <tr>\n",
    "    <th scope=\"row\">SVM</th>\n",
    "     <td>0.77816</td>\n",
    "  </tr>\n",
    "  <tr>\n",
    "    <th scope=\"row\">Xgboost</th>\n",
    "     <td>0.78384</td>\n",
    "  </tr>\n",
    "  <tr>\n",
    "    <th scope=\"row\">Xgboost_tunning</th>\n",
    "     <td>0.78952</td>\n",
    "  </tr>\n",
    "</table>"
   ]
  },
  {
   "cell_type": "markdown",
   "metadata": {},
   "source": [
    "### Conclusion\n",
    "From the above table, we can conclude that Support Vector Classifier and XGBoost Classifier give best accuracy than Logistic regression classifier. But we will continue with XGBoost classifier because the accuracy is slightly higher than SVC."
   ]
  },
  {
   "cell_type": "code",
   "execution_count": 11,
   "metadata": {},
   "outputs": [
    {
     "data": {
      "text/plain": [
       "<matplotlib.axes._subplots.AxesSubplot at 0x21c5dd749e8>"
      ]
     },
     "execution_count": 11,
     "metadata": {},
     "output_type": "execute_result"
    },
    {
     "data": {
      "image/png": "[encoded data removed]",
      "text/plain": [
       "<matplotlib.figure.Figure at 0x21c57b1e748>"
      ]
     },
     "metadata": {},
     "output_type": "display_data"
    }
   ],
   "source": [
    "# confussion matrix\n",
    "df_cm = pd.DataFrame(cm_final, index = (0, 1), columns = (0, 1))\n",
    "plt.figure(figsize = (7, 4))\n",
    "sns.set(font_scale = 1.4)\n",
    "sns.heatmap(df_cm, annot = True, fmt = 'g')"
   ]
  },
  {
   "cell_type": "markdown",
   "metadata": {},
   "source": [
    "#### The model is giving type II error higher than type I.\n",
    "Type I error is equivalent to a False positive. Type II error is equivalent to a False negative. Type I error refers to non-acceptance of hypothesis which ought to be accepted. Type II error is the acceptance of hypothesis which ought to be rejected.\n",
    "\n",
    "Type I error: Predicting that a model is not correct when it is correct.\n",
    "Type II error: Predicting that the model is correct when it is not.\n",
    "\n",
    "In this case, Type II error is a huge risk. It could lead to a loss for company,As comapny will invest on users but they will not subscribe to any products. Type I error is less serious as company will not invest on users but they will subscribe products."
   ]
  },
  {
   "cell_type": "markdown",
   "metadata": {},
   "source": [
    "#### To find the ML model is overfitted, under fitted or generalize doing cross-validation."
   ]
  },
  {
   "cell_type": "code",
   "execution_count": 12,
   "metadata": {},
   "outputs": [
    {
     "name": "stdout",
     "output_type": "stream",
     "text": [
      "Cross validation of XGBoost model =  [0.7728     0.7904     0.78       0.77786667 0.7872     0.7864\n",
      " 0.7864     0.7792     0.78586667 0.77813333]\n",
      "Cross validation of XGBoost model (in mean) =  0.7824266666666666\n"
     ]
    }
   ],
   "source": [
    "# Cross validation of the model\n",
    "from sklearn.model_selection import cross_val_score\n",
    "cross_validation = cross_val_score(estimator = xgb_model, X = X_train2, y = y_train, cv = 10)\n",
    "print(\"Cross validation of XGBoost model = \",cross_validation)\n",
    "print(\"Cross validation of XGBoost model (in mean) = \",cross_validation.mean())\n"
   ]
  },
  {
   "cell_type": "markdown",
   "metadata": {},
   "source": [
    "The mean value cross-validation and XGBoost model accuracy is 78%. That means our XGBoost model is a generalized model."
   ]
  },
  {
   "cell_type": "markdown",
   "metadata": {},
   "source": [
    "#### Mapping predicted output to the target"
   ]
  },
  {
   "cell_type": "code",
   "execution_count": 13,
   "metadata": {},
   "outputs": [
    {
     "data": {
      "text/html": [
       "<div>\n",
       "<style scoped>\n",
       "    .dataframe tbody tr th:only-of-type {\n",
       "        vertical-align: middle;\n",
       "    }\n",
       "\n",
       "    .dataframe tbody tr th {\n",
       "        vertical-align: top;\n",
       "    }\n",
       "\n",
       "    .dataframe thead th {\n",
       "        text-align: right;\n",
       "    }\n",
       "</style>\n",
       "<table border=\"1\" class=\"dataframe\">\n",
       "  <thead>\n",
       "    <tr style=\"text-align: right;\">\n",
       "      <th></th>\n",
       "      <th>user</th>\n",
       "      <th>enrolled</th>\n",
       "      <th>predicted_results</th>\n",
       "    </tr>\n",
       "  </thead>\n",
       "  <tbody>\n",
       "    <tr>\n",
       "      <th>0</th>\n",
       "      <td>239786</td>\n",
       "      <td>1</td>\n",
       "      <td>1</td>\n",
       "    </tr>\n",
       "    <tr>\n",
       "      <th>1</th>\n",
       "      <td>279644</td>\n",
       "      <td>1</td>\n",
       "      <td>1</td>\n",
       "    </tr>\n",
       "    <tr>\n",
       "      <th>2</th>\n",
       "      <td>98290</td>\n",
       "      <td>0</td>\n",
       "      <td>0</td>\n",
       "    </tr>\n",
       "    <tr>\n",
       "      <th>3</th>\n",
       "      <td>170150</td>\n",
       "      <td>1</td>\n",
       "      <td>1</td>\n",
       "    </tr>\n",
       "    <tr>\n",
       "      <th>4</th>\n",
       "      <td>237568</td>\n",
       "      <td>1</td>\n",
       "      <td>0</td>\n",
       "    </tr>\n",
       "    <tr>\n",
       "      <th>...</th>\n",
       "      <td>...</td>\n",
       "      <td>...</td>\n",
       "      <td>...</td>\n",
       "    </tr>\n",
       "    <tr>\n",
       "      <th>12495</th>\n",
       "      <td>105993</td>\n",
       "      <td>0</td>\n",
       "      <td>1</td>\n",
       "    </tr>\n",
       "    <tr>\n",
       "      <th>12496</th>\n",
       "      <td>288268</td>\n",
       "      <td>1</td>\n",
       "      <td>1</td>\n",
       "    </tr>\n",
       "    <tr>\n",
       "      <th>12497</th>\n",
       "      <td>12780</td>\n",
       "      <td>1</td>\n",
       "      <td>1</td>\n",
       "    </tr>\n",
       "    <tr>\n",
       "      <th>12498</th>\n",
       "      <td>299091</td>\n",
       "      <td>1</td>\n",
       "      <td>1</td>\n",
       "    </tr>\n",
       "    <tr>\n",
       "      <th>12499</th>\n",
       "      <td>249945</td>\n",
       "      <td>0</td>\n",
       "      <td>0</td>\n",
       "    </tr>\n",
       "  </tbody>\n",
       "</table>\n",
       "<p>12500 rows × 3 columns</p>\n",
       "</div>"
      ],
      "text/plain": [
       "         user  enrolled  predicted_results\n",
       "0      239786         1                  1\n",
       "1      279644         1                  1\n",
       "2       98290         0                  0\n",
       "3      170150         1                  1\n",
       "4      237568         1                  0\n",
       "...       ...       ...                ...\n",
       "12495  105993         0                  1\n",
       "12496  288268         1                  1\n",
       "12497   12780         1                  1\n",
       "12498  299091         1                  1\n",
       "12499  249945         0                  0\n",
       "\n",
       "[12500 rows x 3 columns]"
      ]
     },
     "execution_count": 13,
     "metadata": {},
     "output_type": "execute_result"
    }
   ],
   "source": [
    "final_results = pd.concat([y_test, test_identifier], axis = 1).dropna()\n",
    "final_results[\"predicted_results\"] = y_pred\n",
    "final_results[['user','enrolled','predicted_results']].reset_index(drop = True)"
   ]
  },
  {
   "cell_type": "markdown",
   "metadata": {},
   "source": [
    "### Final Conclusion\n",
    "Our model will label every new user as 'highly likely' or 'unlikely' to subscribe. We can further validate our results by running our predictions on daily new installs, and see whether our accuracy is consistent. From there, we can narrow our marketing efforts to only those users 'unlikely' to subscribe, and thus increase our subscription rate."
   ]
  }
 ],
 "metadata": {
  "kernelspec": {
   "display_name": "Python 3",
   "language": "python",
   "name": "python3"
  },
  "language_info": {
   "codemirror_mode": {
    "name": "ipython",
    "version": 3
   },
   "file_extension": ".py",
   "mimetype": "text/x-python",
   "name": "python",
   "nbconvert_exporter": "python",
   "pygments_lexer": "ipython3",
   "version": "3.6.4"
  }
 },
 "nbformat": 4,
 "nbformat_minor": 2
}
